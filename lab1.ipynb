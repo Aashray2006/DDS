{
  "nbformat": 4,
  "nbformat_minor": 0,
  "metadata": {
    "colab": {
      "provenance": [],
      "include_colab_link": true
    },
    "kernelspec": {
      "name": "python3",
      "display_name": "Python 3"
    },
    "language_info": {
      "name": "python"
    }
  },
  "cells": [
    {
      "cell_type": "markdown",
      "metadata": {
        "id": "view-in-github",
        "colab_type": "text"
      },
      "source": [
        "<a href=\"https://colab.research.google.com/github/Aashray2006/DDS/blob/main/lab1.ipynb\" target=\"_parent\"><img src=\"https://colab.research.google.com/assets/colab-badge.svg\" alt=\"Open In Colab\"/></a>"
      ]
    },
    {
      "cell_type": "markdown",
      "source": [
        "# 🧪 Lab 1: Stack Using Array (303105202)\n",
        "\n",
        "## 🎯 Objective:\n",
        "Implement Stack and its operations like:\n",
        "- `push`\n",
        "- `pop`\n",
        "- `peek`\n",
        "- `traverse`\n",
        "- `search`\n",
        "\n",
        "✅ Using a **linear array** as per BTech syllabus  \n",
        "🛠️ Languages: Python (runs here), C (via GCC)"
      ],
      "metadata": {
        "id": "jdJX7GNhyi3g"
      }
    },
    {
      "cell_type": "code",
      "source": [
        "%%writefile stack_array.c\n",
        "#include<stdio.h>\n",
        "int main()\n",
        "{\n",
        "int Arr[5]={1,2,3,4,5};\n",
        "  int a;\n",
        "return 0;\n",
        "}"
      ],
      "metadata": {
        "id": "2ygUDR3m6RC9",
        "colab": {
          "base_uri": "https://localhost:8080/"
        },
        "outputId": "f648c463-0880-4866-d04a-756500f559ed"
      },
      "execution_count": null,
      "outputs": [
        {
          "output_type": "stream",
          "name": "stdout",
          "text": [
            "Writing stack_array.c\n"
          ]
        }
      ]
    },
    {
      "cell_type": "code",
      "source": [
        "my_list = [10,20,30,40,50]\n",
        "target = 20\n",
        "if target in my_list:\n",
        "  print(f\"{target} found at index {my_list.index(target)}\")\n",
        "else:\n",
        "  print(f\"{target} not found in list \")\n"
      ],
      "metadata": {
        "colab": {
          "base_uri": "https://localhost:8080/"
        },
        "id": "QBTV9J11ADCm",
        "outputId": "fe379a75-a028-4868-c2da-a9c3636f0679"
      },
      "execution_count": null,
      "outputs": [
        {
          "output_type": "stream",
          "name": "stdout",
          "text": [
            "20 found at index 1\n"
          ]
        }
      ]
    },
    {
      "cell_type": "code",
      "source": [
        "%%writefile find_element.c\n",
        "#include<stdio.h>\n",
        "int main()\n",
        "{\n",
        "    int Arr[]={10,20,30,40,50};\n",
        "    int size= sizeof(Arr)/sizeof(list[0]);\n",
        "    int a;\n",
        "    int target=30;\n",
        "    int found=0;\n",
        "    for(int a=0;a<size;a++)\n",
        "    {\n",
        "        if(list[a]==target){\n",
        "            printf(\"%d is found at index%d\",target,a)\n",
        "            found=1;\n",
        "            break;\n",
        "        }\n",
        "\n",
        "\n",
        "    }\n",
        "    if(!found)\n",
        "    {\n",
        "        printf(\"%d element not found\",target);\n",
        "    }\n",
        "       return 0;\n",
        "}"
      ],
      "metadata": {
        "colab": {
          "base_uri": "https://localhost:8080/"
        },
        "id": "fv34__PBC_9k",
        "outputId": "ba9512ba-36e3-4abf-d96d-48e4b11a61b0"
      },
      "execution_count": null,
      "outputs": [
        {
          "output_type": "stream",
          "name": "stdout",
          "text": [
            "Writing find_element.c\n"
          ]
        }
      ]
    },
    {
      "cell_type": "code",
      "source": [
        "!gcc find_element.c.c -o find_element\n"
      ],
      "metadata": {
        "colab": {
          "base_uri": "https://localhost:8080/"
        },
        "id": "Lgq8tSeBFtZu",
        "outputId": "eb89c549-4437-4aed-a452-4620c8a66cc7"
      },
      "execution_count": null,
      "outputs": [
        {
          "output_type": "stream",
          "name": "stdout",
          "text": [
            "\u001b[01m\u001b[Kcc1:\u001b[m\u001b[K \u001b[01;31m\u001b[Kfatal error: \u001b[m\u001b[Kfind_element.c.c: No such file or directory\n",
            "compilation terminated.\n"
          ]
        }
      ]
    },
    {
      "cell_type": "code",
      "source": [
        "!./find_element"
      ],
      "metadata": {
        "id": "rnfqhIoHFtvk"
      },
      "execution_count": null,
      "outputs": []
    },
    {
      "cell_type": "code",
      "execution_count": null,
      "metadata": {
        "id": "wrONv57JyhIE",
        "colab": {
          "base_uri": "https://localhost:8080/"
        },
        "outputId": "172508d9-abdf-4f58-f288-b3e71aa84913"
      },
      "outputs": [
        {
          "output_type": "stream",
          "name": "stdout",
          "text": [
            "Stack (Top to Bottom): [30, 20, 10]\n",
            "Top Element: 30\n",
            "Found 20 at position 1 from top\n",
            "Popped: 30\n",
            "Stack (Top to Bottom): [20, 10]\n"
          ]
        }
      ],
      "source": [
        "\n",
        "# ✅ Python Implementation of Stack using List (Array)\n",
        "\n",
        "stack = []\n",
        "\n",
        "def push(value):\n",
        "    stack.append(value)\n",
        "\n",
        "def pop():\n",
        "    if not stack:\n",
        "        print(\"Stack Underflow\")\n",
        "    else:\n",
        "        print(\"Popped:\", stack.pop())\n",
        "\n",
        "def peek():\n",
        "    if not stack:\n",
        "        print(\"Stack is Empty\")\n",
        "    else:\n",
        "        print(\"Top Element:\", stack[-1])\n",
        "\n",
        "def traverse():\n",
        "    if not stack:\n",
        "        print(\"Stack is Empty\")\n",
        "    else:\n",
        "        print(\"Stack (Top to Bottom):\", stack[::-1])\n",
        "\n",
        "def search(value):\n",
        "    if value in stack:\n",
        "        pos = len(stack) - stack[::-1].index(value) - 1\n",
        "        print(f\"Found {value} at position {pos} from top\")\n",
        "    else:\n",
        "        print(f\"{value} not found in stack\")\n",
        "\n",
        "# 🔍 Test\n",
        "push(10)\n",
        "push(20)\n",
        "push(30)\n",
        "traverse()\n",
        "peek()\n",
        "search(20)\n",
        "pop()\n",
        "traverse()"
      ]
    },
    {
      "cell_type": "markdown",
      "source": [
        "---\n",
        "\n",
        "## 💻 Now Let’s Run the Same Logic in C\n",
        "\n",
        "Google Colab allows us to:\n",
        "1. Write C code to a file\n",
        "2. Compile it with `gcc`\n",
        "3. Execute it and see the output directly\n",
        "\n",
        "Let’s go!"
      ],
      "metadata": {
        "id": "bGWnfRVczHgu"
      }
    },
    {
      "cell_type": "code",
      "source": [
        "\n",
        "# Write the C program into a file\n",
        "c_code = \"\"\"\n",
        "#include <stdio.h>\n",
        "#define SIZE 100\n",
        "\n",
        "int stack[SIZE];\n",
        "int top = -1;\n",
        "\n",
        "void push(int value) {\n",
        "    if (top == SIZE - 1)\n",
        "        printf(\"Stack Overflow\\\\n\");\n",
        "    else\n",
        "        stack[++top] = value;\n",
        "}\n",
        "\n",
        "void pop() {\n",
        "    if (top == -1)\n",
        "        printf(\"Stack Underflow\\\\n\");\n",
        "    else\n",
        "        printf(\"Popped: %d\\\\n\", stack[top--]);\n",
        "}\n",
        "\n",
        "void peek() {\n",
        "    if (top == -1)\n",
        "        printf(\"Stack is Empty\\\\n\");\n",
        "    else\n",
        "        printf(\"Top Element: %d\\\\n\", stack[top]);\n",
        "}\n",
        "\n",
        "void traverse() {\n",
        "    if (top == -1)\n",
        "        printf(\"Stack is Empty\\\\n\");\n",
        "    else {\n",
        "        printf(\"Stack: \");\n",
        "        for (int i = top; i >= 0; i--)\n",
        "            printf(\"%d \", stack[i]);\n",
        "        printf(\"\\\\n\");\n",
        "    }\n",
        "}\n",
        "\n",
        "void search(int value) {\n",
        "    for (int i = top; i >= 0; i--) {\n",
        "        if (stack[i] == value) {\n",
        "            printf(\"Found %d at position %d from top\\\\n\", value, top - i);\n",
        "            return;\n",
        "        }\n",
        "    }\n",
        "    printf(\"%d not found in stack\\\\n\", value);\n",
        "}\n",
        "\n",
        "int main() {\n",
        "    push(10);\n",
        "    push(20);\n",
        "    push(30);\n",
        "    traverse();\n",
        "    peek();\n",
        "    search(20);\n",
        "    pop();\n",
        "    traverse();\n",
        "    return 0;\n",
        "}\n",
        "\"\"\"\n",
        "\n",
        "with open(\"stack_lab1.c\", \"w\") as f:\n",
        "    f.write(c_code)"
      ],
      "metadata": {
        "id": "8U5XW1_MzQ7h"
      },
      "execution_count": null,
      "outputs": []
    },
    {
      "cell_type": "code",
      "source": [
        "# Compile the C program\n",
        "!gcc stack_lab1.c -o stack_lab1"
      ],
      "metadata": {
        "id": "peml3SpSzZBB"
      },
      "execution_count": null,
      "outputs": []
    },
    {
      "cell_type": "code",
      "source": [
        "# Run the compiled C executable\n",
        "!./stack_lab1"
      ],
      "metadata": {
        "id": "zEWLJ5g3zcpB",
        "colab": {
          "base_uri": "https://localhost:8080/"
        },
        "outputId": "5fba4232-d581-4c35-a778-bfef4d3d81e8"
      },
      "execution_count": null,
      "outputs": [
        {
          "output_type": "stream",
          "name": "stdout",
          "text": [
            "Stack: 30 20 10 \n",
            "Top Element: 30\n",
            "Found 20 at position 1 from top\n",
            "Popped: 30\n",
            "Stack: 20 10 \n"
          ]
        }
      ]
    },
    {
      "cell_type": "markdown",
      "source": [
        "1.python uses dynamic memory allocation.\n",
        "2.stack uses negative indexing from the last element in stack.\n",
        "3.append helps to add/combine the element or text in stack.\n",
        "4.traverse gives the last added element first in output then at last it shows the first added element.\n",
        "5.pop removes the last added element."
      ],
      "metadata": {
        "id": "uI8Hpxm45vzD"
      }
    },
    {
      "cell_type": "markdown",
      "source": [],
      "metadata": {
        "id": "R_84iiVs0AXn"
      }
    }
  ]
}