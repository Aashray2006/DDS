{
  "nbformat": 4,
  "nbformat_minor": 0,
  "metadata": {
    "colab": {
      "provenance": [],
      "authorship_tag": "ABX9TyNCq1+ZM2S+qeMqjO0XXGCU",
      "include_colab_link": true
    },
    "kernelspec": {
      "name": "python3",
      "display_name": "Python 3"
    },
    "language_info": {
      "name": "python"
    }
  },
  "cells": [
    {
      "cell_type": "markdown",
      "metadata": {
        "id": "view-in-github",
        "colab_type": "text"
      },
      "source": [
        "<a href=\"https://colab.research.google.com/github/Aashray2006/DDS/blob/main/leetcode/day1.ipynb\" target=\"_parent\"><img src=\"https://colab.research.google.com/assets/colab-badge.svg\" alt=\"Open In Colab\"/></a>"
      ]
    },
    {
      "cell_type": "code",
      "execution_count": null,
      "metadata": {
        "colab": {
          "base_uri": "https://localhost:8080/"
        },
        "id": "vM3JPNo53UqV",
        "outputId": "488f2772-e998-4a6d-976f-982e02b335f4"
      },
      "outputs": [
        {
          "output_type": "stream",
          "name": "stdout",
          "text": [
            "2\n",
            "[2, 2, 2, 3]\n"
          ]
        }
      ],
      "source": [
        "l = [3,2,2,3]\n",
        "t = 3\n",
        "k = 0\n",
        "for i in range(len(l)):\n",
        "  if t!=l[i]:\n",
        "    l[k]  = l[i]\n",
        "    k+=1\n",
        "print(k)\n",
        "print(l)\n",
        "\n",
        "\n"
      ]
    },
    {
      "cell_type": "code",
      "source": [],
      "metadata": {
        "id": "9JxbryTo9mE6"
      },
      "execution_count": null,
      "outputs": []
    }
  ]
}